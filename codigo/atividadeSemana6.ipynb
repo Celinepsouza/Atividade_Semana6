{
  "nbformat": 4,
  "nbformat_minor": 0,
  "metadata": {
    "colab": {
      "provenance": []
    },
    "kernelspec": {
      "name": "python3",
      "display_name": "Python 3"
    },
    "language_info": {
      "name": "python"
    }
  },
  "cells": [
    {
      "cell_type": "code",
      "source": [
        "pip install pycryptodome"
      ],
      "metadata": {
        "colab": {
          "base_uri": "https://localhost:8080/"
        },
        "id": "8rioV_4eVdcE",
        "outputId": "1690dfab-e498-45ef-b65a-f4fcacc9f35f"
      },
      "execution_count": 24,
      "outputs": [
        {
          "output_type": "stream",
          "name": "stdout",
          "text": [
            "Requirement already satisfied: pycryptodome in /usr/local/lib/python3.10/dist-packages (3.20.0)\n"
          ]
        }
      ]
    },
    {
      "cell_type": "code",
      "source": [
        "import hashlib\n",
        "from Crypto.Cipher import AES\n",
        "from tabulate import tabulate\n"
      ],
      "metadata": {
        "id": "cnX9kbA0VeAe"
      },
      "execution_count": 63,
      "outputs": []
    },
    {
      "cell_type": "code",
      "source": [
        "def hash_sha256(teste):\n",
        "    return hashlib.sha256(teste.encode()).hexdigest()"
      ],
      "metadata": {
        "id": "98Jh9uucViZj"
      },
      "execution_count": 64,
      "outputs": []
    },
    {
      "cell_type": "code",
      "source": [
        "def aes256_criptografar(chave, dados):\n",
        "    cipher = AES.new(chave, AES.MODE_EAX)\n",
        "    texto_cifrado, tag = cipher.encrypt_and_digest(dados)\n",
        "    return texto_cifrado, cipher.nonce, tag"
      ],
      "metadata": {
        "id": "4nHtqHJvVkSj"
      },
      "execution_count": 69,
      "outputs": []
    },
    {
      "cell_type": "code",
      "source": [
        "def aes256_descriptografar(chave, nonce, texto_cifrado, tag):\n",
        "    cipher = AES.new(chave, AES.MODE_EAX, nonce=nonce)\n",
        "    dados_descriptografados = cipher.decrypt_and_verify(texto_cifrado, tag)\n",
        "    return dados_descriptografados"
      ],
      "metadata": {
        "id": "2RaUrEaTVmHz"
      },
      "execution_count": 70,
      "outputs": []
    },
    {
      "cell_type": "code",
      "source": [
        "def executar_testes():\n",
        "    palavras_chave = [\"Nome\", \"Sobrenome\", \"Curso\", \"Cidade\",\n",
        "                \"Estado\", \"Nacionalidade\", \"Interesse1\",\n",
        "                \"Interesse2\", \"Interesse3\", \"Idade\"]\n",
        "\n",
        "    testes = [\"Celine\", \"Souza\", \"Sistemas da Informação\", \"Manaus\",\n",
        "             \"Amazonas\", \"Brasil\", \"Sustentabilidade\", \"Tecnologia\",\n",
        "             \"Natureza\", \"Vinte\"]\n",
        "\n",
        "    resultados = []\n",
        "    for i, teste in enumerate(testes):\n",
        "        chave = hashlib.sha256(palavras_chave[i].encode()).digest()\n",
        "\n",
        "        # SHA-256\n",
        "        resultado_sha256 = hash_sha256(teste)\n",
        "\n",
        "        # AES-256 Criptografar\n",
        "        texto_cifrado, nonce, tag = aes256_criptografar(chave, teste.encode())\n",
        "        texto_cifrado_hex = texto_cifrado.hex()\n",
        "\n",
        "        # AES-256 Descriptografar\n",
        "        dados_descriptografados = aes256_descriptografar(chave, nonce, texto_cifrado, tag)\n",
        "        dados_descriptografados_str = dados_descriptografados.decode()\n",
        "\n",
        "        resultados.append([i + 1, teste, resultado_sha256, texto_cifrado_hex, palavras_chave[i], dados_descriptografados_str])\n",
        "    return resultados\n",
        "\n",
        "if __name__ == \"__main__\":\n",
        "    resultados_testes = executar_testes()\n",
        "    cabecalhos = [\"Número do teste\", \"Teste\", \"SHA-256\", \"AES-256 (Criptografado)\", \"Palavra-chave AES-256\", \"AES-256 (Descriptografado)\"]\n",
        "    print(tabulate(resultados_testes, headers=cabecalhos))"
      ],
      "metadata": {
        "colab": {
          "base_uri": "https://localhost:8080/"
        },
        "id": "J41-jrp0VoGy",
        "outputId": "47867118-2cc3-4eea-9c17-88e220390cce"
      },
      "execution_count": 71,
      "outputs": [
        {
          "output_type": "stream",
          "name": "stdout",
          "text": [
            "  Número do teste  Teste                   SHA-256                                                           AES-256 (Criptografado)                           Palavra-chave AES-256    AES-256 (Descriptografado)\n",
            "-----------------  ----------------------  ----------------------------------------------------------------  ------------------------------------------------  -----------------------  ----------------------------\n",
            "                1  Celine                  c959af3162393c9d72e5de0a3d3681f742246f8625df4cda9bea482503331f22  7db430509777                                      Nome                     Celine\n",
            "                2  Souza                   c988444841ebbdb16ffc457bb9cd0de514d15d677a7a7fda419ccc85e0fffce5  8dfd7186c1                                        Sobrenome                Souza\n",
            "                3  Sistemas da Informação  7d719e9db29ad79e1157ad448423e300a40dbfd6b75dc5dea6c582cc8e822d36  31a5e2fe1e148afc2006439d50b12e96b7b58e4f6da7a139  Curso                    Sistemas da Informação\n",
            "                4  Manaus                  d6c2e8f87879ae81e45938f26dfebad6c20e8ebe8f38cf725f271446ae945906  251439eff0e0                                      Cidade                   Manaus\n",
            "                5  Amazonas                21a02fb6a7e1c4524a5ee293687a78d524a5ddebef2a6073684c227eaf4918da  7312c08c3f17a78e                                  Estado                   Amazonas\n",
            "                6  Brasil                  6641c5a7ff9f56ef2baceefb41d9906583b9816a7b3e9c4c23773646be584caf  cb5c0b61bfe1                                      Nacionalidade            Brasil\n",
            "                7  Sustentabilidade        9f032a34d9e40bf2e6ecdfa574693726e9e2742540cef3fa0ac0b6b2ec194c12  6245ef62fb457bdece9f64f64962a5da                  Interesse1               Sustentabilidade\n",
            "                8  Tecnologia              735197da557e725c54b7784f7fb14918f9fa563c1b82b7dff726e064839ff3e2  691d2e418425767f1e88                              Interesse2               Tecnologia\n",
            "                9  Natureza                f58c2019b3037ba487f04d9adbffe8cfb855aaa993aa6b449baea92046ece21f  85080cd810200d93                                  Interesse3               Natureza\n",
            "               10  Vinte                   ee718f155de32aee742b0c4b48fbff00de1beee9f595ded81e2f68d1ba0af139  40438c2fbd                                        Idade                    Vinte\n"
          ]
        }
      ]
    },
    {
      "cell_type": "code",
      "source": [],
      "metadata": {
        "id": "kiPT6SwOVrJ2"
      },
      "execution_count": null,
      "outputs": []
    }
  ]
}